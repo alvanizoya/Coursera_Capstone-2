{
 "cells": [
  {
   "cell_type": "markdown",
   "metadata": {},
   "source": [
    "#Crime and commerical activities in Toronto neighborhoods\n",
    "\n",
    "This notebook will be used for the Capstone project of IBM Applied Data Science courses (via coursera)"
   ]
  },
  {
   "cell_type": "markdown",
   "metadata": {},
   "source": [
    "## 1 Introduction\n",
    "Toronto is the capital city of Ontario as well as the largest city by population in Canada. As of 2016 it had a population of over 2,700,000 (wikipedia). Being the most populous city in the country, Toronto is of great importance both domestically and globally. \n",
    "\n",
    "### 1.1 Business\n",
    "It is an international centre for business and finance. Generally considered the financial capital of Canada, it has a high concentration of banks and brokerage firms on Bay Street. The Toronto Stock Exchange is the world's seventh-largest stock exchange by market capitalization. In particular, the city accounted for nearly one quarter of the country’s employment in the finance and insurance industry (wikipedia).\n",
    "\n",
    "Also the city is an important centre for the media, publishing, telecommunication, information technology and film production industries; it is home to Bell Media, Rogers Communications, and Torstar. Other prominent Canadian corporations in the Greater Toronto Area include Magna International, Celestica, Manulife, Sun Life Financial, the Hudson's Bay Company, and major hotel companies and operators, such as Four Seasons Hotels and Fairmont Hotels and Resorts.\n",
    "\n",
    "### 1.2 Living\n",
    "In 2018, Toronto ranked 7th (tied with Tokyo) for the world’s most livable cities (3rd in North America) according to the Economist Intelligence Unit Opens in new window (toronto.ca), based on . Cities are rated across five categories; stability, healthcare, culture and environment, education and infrastructure. In each of the categories, cities are given a score between 1 and 100, where 1 is considered intolerable and 100 is considered ideal. Once all category scores are compiled and weighted, an overall score is given between 1 and 100. Toronto received an overall score of 97.2. Toronto received high scores (100) in stability, healthcare and education. Toronto’s lowest score (89.3) was in infrastructure. (Toronto.ca)\n",
    "\n",
    "### 1.3 Crime\n",
    "Although being the most populous city in Canada, the overall crime rate in Toronto is below than national average, based on Statistics Canada data. \n",
    "\n",
    "### 1.4 Project description\n",
    "In this project, we intend to study the geo-distribution of crime rate in Toronto and particularly its relation/correlation with commercial activities in the neighborhood. The results would be of great interest for both business persons, who would naturally be interested in doing business in a safe and properous neighborhood, and government, who is keenly interested in making Toronto a more livable city.\n",
    "\n",
    "As it is an exploratory study, we do not foresee what the outcome would look like, but ideally we hope to get some insight regarding interactions between crime activities and business activities. More specifically, we want to answer the following questions:\n",
    "1. How is the crime rate distributed in Toronto neighborhood? Where are neighborhoods with the highest/lowest crime?\n",
    "2. What do the crime rate distributions differ for different crime types?\n",
    "3. How is the business activity (venue density) distributed in Toronto neighborhood? Where are neighborhoods with the highest/lowest, e. g., restaurant concentration and so on?\n",
    "4. Are there any relationship/correlation/association between crime rate (or a specific type of crime rate) and particular type of business venue or vice versa?\n",
    "\n",
    "#### Target Audiance\n",
    "1. Business persons, who are interested in a perfect location for their businesses\n",
    "2. Municipal government, who is interested in making Toronto a more livable city.\n"
   ]
  }
 ],
 "metadata": {
  "kernelspec": {
   "display_name": "Python 3",
   "language": "python",
   "name": "python3"
  },
  "language_info": {
   "codemirror_mode": {
    "name": "ipython",
    "version": 3
   },
   "file_extension": ".py",
   "mimetype": "text/x-python",
   "name": "python",
   "nbconvert_exporter": "python",
   "pygments_lexer": "ipython3",
   "version": "3.7.3"
  }
 },
 "nbformat": 4,
 "nbformat_minor": 2
}
