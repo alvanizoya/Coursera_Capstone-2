{
 "cells": [
  {
   "cell_type": "markdown",
   "metadata": {},
   "source": [
    "<a href=\"https://cognitiveclass.ai\"><img src = \"https://ibm.box.com/shared/static/9gegpsmnsoo25ikkbl4qzlvlyjbgxs5x.png\" width = 400> </a>\n",
    "\n",
    "<h1 align=center><font size = 5>Crime and commerical activities in Toronto neighborhoods</font></h1>\n",
    "\n",
    "This notebook will be used for the Capstone project of IBM Applied Data Science courses (via coursera)"
   ]
  },
  {
   "cell_type": "markdown",
   "metadata": {},
   "source": [
    "## 2 Data Description\n",
    "In this project, we are planing to use mainly two data sources, namely, Foursquare data and City of Toronto Crime Statistics data.\n",
    "\n",
    "### 2.1 Foursquare API data\n",
    "Foursquare provides different endpoints, from which information about venues and/or users can be retrieved. We are particularly interested in the \"explore\" endpoint to get basic information of venues in a neighborhood their categories and so on. This information is then going to be combined with Crime Statistics data above.\n",
    "\n",
    "| Endpoint          | Usage                       |\n",
    "|-------------------|-----------------------------|\n",
    "| search            | Search for Venues           |\n",
    "| __explore__           | __Get Venue Recommendations__   |\n",
    "| select            | Report Venue Selection      |\n",
    "| trending          | Get Trending Venues         |\n",
    "| suggestcompletion | Suggest Completions         |\n",
    "| likes             | Get Users Who Liked a Venue |\n",
    "| categories        | Get Venue Categories        |\n",
    "| similar           | Get Similar Venues          |\n",
    "| nextvenues        | Get Next Venues             |\n",
    "| listed            | Get Lists a Venue is On     |\n",
    "\n",
    "### 2.2 City of Toronto Crime Statistics\n",
    "This data is available via City of Toronto Open Data Portal and is shared by [TorontoPoliceService](http://data.torontopolice.on.ca/datasets/98f7dde610b54b9081dfca80be453ac9_0). This dataset can be downloaded as CSV or JSON file. It includes all Major Crime Indicators (MCI) 2014 to 2018 occurrences by reported date and related offences. Below is a list of variables that are included in the datasets.\n",
    "\n",
    "| Fields              | Field_Description                                                                                           |\n",
    "|---------------------|-------------------------------------------------------------------------------------------------------------|\n",
    "| Index               | Unique ID                                                                                                   |\n",
    "| event_unique_id     | Occurrence number                                                                                           |\n",
    "| occurrencedate      | Date of occurrence                                                                                          |\n",
    "| reporteddate        | Date occurrence was reported                                                                                |\n",
    "| premisetype         | Premise where occurrence took place                                                                         |\n",
    "| ucr_code            | URC Code                                                                                                    |\n",
    "| ucr_ext             | URC Code Extension                                                                                          |\n",
    "| offence             | Offence related to the occurrence                                                                           |\n",
    "| reportedyear        | Year occurrence was reported                                                                                |\n",
    "| reportedmonth       | Month occurrence was reported                                                                               |\n",
    "| reportedday         | Day occurrence was reported                                                                                 |\n",
    "| reporteddayofyear   | Day of week occurrence was reported                                                                         |\n",
    "| reporteddayofweek   | Day of year Occurrence was reported                                                                         |\n",
    "| reportedhour        | Hour occurrence was reported                                                                                |\n",
    "| occurrenceyear      | Occurrence year                                                                                             |\n",
    "| occurrencemonth     | Occurrence month                                                                                            |\n",
    "| occurrenceday       | Occurrence day                                                                                              |\n",
    "| occurrencedayofyear | Occurrence day of year                                                                                      |\n",
    "| occurrencedayofweek | Occurrence day of week                                                                                      |\n",
    "| occurrencehour      | Occurrence hour                                                                                             |\n",
    "| MCI                 | Major Crime Indicator related to the offence                                                                |\n",
    "| Division            | Division Assigned to occurrence after offsetting X and & Coordinates to nearest intersection node           |\n",
    "| Hood_ID             | Nieghbourhood Name Assigned to occurrence after offsetting X and & Coordinates to nearest intersection node |\n",
    "| Neighbourhood       | Nieghbourhood ID Assigned to occurrence after offsetting X and & Coordinates to nearest intersection node   |\n",
    "| Long                | Longitude of point extracted after offsetting X and & Coordinates to nearest intersection node              |\n",
    "| Lat                 | Latitude of point extracted after offsetting X and & Coordinates to nearest intersection node               |\n",
    "\n",
    "### 2.3 Data usage\n",
    "The two data sources will eventually be combined on __Neighbourhood__. Further data analysis and modelling will be based on the final dataset."
   ]
  },
  {
   "cell_type": "code",
   "execution_count": null,
   "metadata": {},
   "outputs": [],
   "source": []
  }
 ],
 "metadata": {
  "kernelspec": {
   "display_name": "Python 3",
   "language": "python",
   "name": "python3"
  },
  "language_info": {
   "codemirror_mode": {
    "name": "ipython",
    "version": 3
   },
   "file_extension": ".py",
   "mimetype": "text/x-python",
   "name": "python",
   "nbconvert_exporter": "python",
   "pygments_lexer": "ipython3",
   "version": "3.7.3"
  }
 },
 "nbformat": 4,
 "nbformat_minor": 2
}
